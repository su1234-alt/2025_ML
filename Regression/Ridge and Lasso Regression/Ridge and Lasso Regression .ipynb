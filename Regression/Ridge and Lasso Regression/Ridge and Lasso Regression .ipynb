{
 "cells": [
  {
   "cell_type": "code",
   "execution_count": 1,
   "id": "986469c1",
   "metadata": {},
   "outputs": [],
   "source": [
    "import numpy as np\n",
    "import pandas as pd \n",
    "import matplotlib.pyplot as plt \n",
    "import seaborn as sns "
   ]
  },
  {
   "cell_type": "code",
   "execution_count": 17,
   "id": "ba6228d7",
   "metadata": {},
   "outputs": [
    {
     "data": {
      "text/plain": [
       "'1.3.0'"
      ]
     },
     "execution_count": 17,
     "metadata": {},
     "output_type": "execute_result"
    }
   ],
   "source": [
    "import sklearn\n",
    "sklearn.__version__"
   ]
  },
  {
   "cell_type": "code",
   "execution_count": 19,
   "id": "3d740b26",
   "metadata": {},
   "outputs": [
    {
     "name": "stdout",
     "output_type": "stream",
     "text": [
      "^C\n"
     ]
    }
   ],
   "source": [
    "!pip uninstall scikit-learn "
   ]
  },
  {
   "cell_type": "code",
   "execution_count": null,
   "id": "aa080f7b",
   "metadata": {},
   "outputs": [],
   "source": []
  },
  {
   "cell_type": "code",
   "execution_count": 34,
   "id": "b72e476f",
   "metadata": {},
   "outputs": [],
   "source": [
    "X = df.iloc[: , :-1]\n",
    "y = df.iloc[: , -1]"
   ]
  },
  {
   "cell_type": "code",
   "execution_count": 35,
   "id": "20c31c65",
   "metadata": {},
   "outputs": [],
   "source": [
    "from sklearn.model_selection import train_test_split"
   ]
  },
  {
   "cell_type": "code",
   "execution_count": 36,
   "id": "81289049",
   "metadata": {},
   "outputs": [],
   "source": [
    "X_train, X_test, y_train, y_test = train_test_split(X, y, test_size=0.33, random_state=42)"
   ]
  },
  {
   "cell_type": "code",
   "execution_count": 37,
   "id": "b54ffd49",
   "metadata": {},
   "outputs": [],
   "source": [
    "from sklearn.linear_model import LinearRegression"
   ]
  },
  {
   "cell_type": "code",
   "execution_count": 38,
   "id": "09e69e0f",
   "metadata": {},
   "outputs": [],
   "source": [
    "from sklearn.metrics import r2_score"
   ]
  },
  {
   "cell_type": "markdown",
   "id": "ab71eba2",
   "metadata": {},
   "source": [
    "### Linear Regression "
   ]
  },
  {
   "cell_type": "code",
   "execution_count": 39,
   "id": "fadd105a",
   "metadata": {},
   "outputs": [
    {
     "name": "stdout",
     "output_type": "stream",
     "text": [
      "R2_score value =  0.7261570836552476\n"
     ]
    },
    {
     "data": {
      "text/html": [
       "<div>\n",
       "<style scoped>\n",
       "    .dataframe tbody tr th:only-of-type {\n",
       "        vertical-align: middle;\n",
       "    }\n",
       "\n",
       "    .dataframe tbody tr th {\n",
       "        vertical-align: top;\n",
       "    }\n",
       "\n",
       "    .dataframe thead th {\n",
       "        text-align: right;\n",
       "    }\n",
       "</style>\n",
       "<table border=\"1\" class=\"dataframe\">\n",
       "  <thead>\n",
       "    <tr style=\"text-align: right;\">\n",
       "      <th></th>\n",
       "      <th>column_names</th>\n",
       "      <th>coeffcient_values</th>\n",
       "    </tr>\n",
       "  </thead>\n",
       "  <tbody>\n",
       "    <tr>\n",
       "      <th>0</th>\n",
       "      <td>CRIM</td>\n",
       "      <td>-0.128750</td>\n",
       "    </tr>\n",
       "    <tr>\n",
       "      <th>1</th>\n",
       "      <td>ZN</td>\n",
       "      <td>0.037823</td>\n",
       "    </tr>\n",
       "    <tr>\n",
       "      <th>2</th>\n",
       "      <td>INDUS</td>\n",
       "      <td>0.058211</td>\n",
       "    </tr>\n",
       "    <tr>\n",
       "      <th>3</th>\n",
       "      <td>CHAS</td>\n",
       "      <td>3.238668</td>\n",
       "    </tr>\n",
       "    <tr>\n",
       "      <th>4</th>\n",
       "      <td>NOX</td>\n",
       "      <td>-16.169812</td>\n",
       "    </tr>\n",
       "    <tr>\n",
       "      <th>5</th>\n",
       "      <td>RM</td>\n",
       "      <td>3.902051</td>\n",
       "    </tr>\n",
       "    <tr>\n",
       "      <th>6</th>\n",
       "      <td>AGE</td>\n",
       "      <td>-0.012851</td>\n",
       "    </tr>\n",
       "    <tr>\n",
       "      <th>7</th>\n",
       "      <td>DIS</td>\n",
       "      <td>-1.422224</td>\n",
       "    </tr>\n",
       "    <tr>\n",
       "      <th>8</th>\n",
       "      <td>RAD</td>\n",
       "      <td>0.234854</td>\n",
       "    </tr>\n",
       "    <tr>\n",
       "      <th>9</th>\n",
       "      <td>TAX</td>\n",
       "      <td>-0.008213</td>\n",
       "    </tr>\n",
       "    <tr>\n",
       "      <th>10</th>\n",
       "      <td>PTRATIO</td>\n",
       "      <td>-0.928722</td>\n",
       "    </tr>\n",
       "    <tr>\n",
       "      <th>11</th>\n",
       "      <td>B</td>\n",
       "      <td>0.011770</td>\n",
       "    </tr>\n",
       "    <tr>\n",
       "      <th>12</th>\n",
       "      <td>LSTAT</td>\n",
       "      <td>-0.547566</td>\n",
       "    </tr>\n",
       "  </tbody>\n",
       "</table>\n",
       "</div>"
      ],
      "text/plain": [
       "   column_names  coeffcient_values\n",
       "0          CRIM          -0.128750\n",
       "1            ZN           0.037823\n",
       "2         INDUS           0.058211\n",
       "3          CHAS           3.238668\n",
       "4           NOX         -16.169812\n",
       "5            RM           3.902051\n",
       "6           AGE          -0.012851\n",
       "7           DIS          -1.422224\n",
       "8           RAD           0.234854\n",
       "9           TAX          -0.008213\n",
       "10      PTRATIO          -0.928722\n",
       "11            B           0.011770\n",
       "12        LSTAT          -0.547566"
      ]
     },
     "execution_count": 39,
     "metadata": {},
     "output_type": "execute_result"
    }
   ],
   "source": [
    "reg = LinearRegression()\n",
    "reg.fit(X_train,y_train)\n",
    "y_test_pred = reg.predict(X_test)\n",
    "print(\"R2_score value = \",r2_score(y_test,y_test_pred))\n",
    "checking = pd.DataFrame()\n",
    "checking[\"column_names\"] = X_train.columns\n",
    "checking[\"coeffcient_values\"] = reg.coef_\n",
    "checking"
   ]
  },
  {
   "cell_type": "markdown",
   "id": "fc70a231",
   "metadata": {},
   "source": [
    "### Ridge Regression"
   ]
  },
  {
   "cell_type": "code",
   "execution_count": 40,
   "id": "b3176dbe",
   "metadata": {},
   "outputs": [
    {
     "name": "stdout",
     "output_type": "stream",
     "text": [
      "R2_score value =  0.7229361801908383\n"
     ]
    },
    {
     "data": {
      "text/html": [
       "<div>\n",
       "<style scoped>\n",
       "    .dataframe tbody tr th:only-of-type {\n",
       "        vertical-align: middle;\n",
       "    }\n",
       "\n",
       "    .dataframe tbody tr th {\n",
       "        vertical-align: top;\n",
       "    }\n",
       "\n",
       "    .dataframe thead th {\n",
       "        text-align: right;\n",
       "    }\n",
       "</style>\n",
       "<table border=\"1\" class=\"dataframe\">\n",
       "  <thead>\n",
       "    <tr style=\"text-align: right;\">\n",
       "      <th></th>\n",
       "      <th>column_names</th>\n",
       "      <th>coeffcient_values</th>\n",
       "      <th>Ridge_coef_values</th>\n",
       "    </tr>\n",
       "  </thead>\n",
       "  <tbody>\n",
       "    <tr>\n",
       "      <th>0</th>\n",
       "      <td>CRIM</td>\n",
       "      <td>-0.128750</td>\n",
       "      <td>-0.124591</td>\n",
       "    </tr>\n",
       "    <tr>\n",
       "      <th>1</th>\n",
       "      <td>ZN</td>\n",
       "      <td>0.037823</td>\n",
       "      <td>0.038469</td>\n",
       "    </tr>\n",
       "    <tr>\n",
       "      <th>2</th>\n",
       "      <td>INDUS</td>\n",
       "      <td>0.058211</td>\n",
       "      <td>0.034918</td>\n",
       "    </tr>\n",
       "    <tr>\n",
       "      <th>3</th>\n",
       "      <td>CHAS</td>\n",
       "      <td>3.238668</td>\n",
       "      <td>3.116315</td>\n",
       "    </tr>\n",
       "    <tr>\n",
       "      <th>4</th>\n",
       "      <td>NOX</td>\n",
       "      <td>-16.169812</td>\n",
       "      <td>-10.753667</td>\n",
       "    </tr>\n",
       "    <tr>\n",
       "      <th>5</th>\n",
       "      <td>RM</td>\n",
       "      <td>3.902051</td>\n",
       "      <td>3.911982</td>\n",
       "    </tr>\n",
       "    <tr>\n",
       "      <th>6</th>\n",
       "      <td>AGE</td>\n",
       "      <td>-0.012851</td>\n",
       "      <td>-0.017433</td>\n",
       "    </tr>\n",
       "    <tr>\n",
       "      <th>7</th>\n",
       "      <td>DIS</td>\n",
       "      <td>-1.422224</td>\n",
       "      <td>-1.341809</td>\n",
       "    </tr>\n",
       "    <tr>\n",
       "      <th>8</th>\n",
       "      <td>RAD</td>\n",
       "      <td>0.234854</td>\n",
       "      <td>0.222522</td>\n",
       "    </tr>\n",
       "    <tr>\n",
       "      <th>9</th>\n",
       "      <td>TAX</td>\n",
       "      <td>-0.008213</td>\n",
       "      <td>-0.008706</td>\n",
       "    </tr>\n",
       "    <tr>\n",
       "      <th>10</th>\n",
       "      <td>PTRATIO</td>\n",
       "      <td>-0.928722</td>\n",
       "      <td>-0.867973</td>\n",
       "    </tr>\n",
       "    <tr>\n",
       "      <th>11</th>\n",
       "      <td>B</td>\n",
       "      <td>0.011770</td>\n",
       "      <td>0.011923</td>\n",
       "    </tr>\n",
       "    <tr>\n",
       "      <th>12</th>\n",
       "      <td>LSTAT</td>\n",
       "      <td>-0.547566</td>\n",
       "      <td>-0.559961</td>\n",
       "    </tr>\n",
       "  </tbody>\n",
       "</table>\n",
       "</div>"
      ],
      "text/plain": [
       "   column_names  coeffcient_values  Ridge_coef_values\n",
       "0          CRIM          -0.128750          -0.124591\n",
       "1            ZN           0.037823           0.038469\n",
       "2         INDUS           0.058211           0.034918\n",
       "3          CHAS           3.238668           3.116315\n",
       "4           NOX         -16.169812         -10.753667\n",
       "5            RM           3.902051           3.911982\n",
       "6           AGE          -0.012851          -0.017433\n",
       "7           DIS          -1.422224          -1.341809\n",
       "8           RAD           0.234854           0.222522\n",
       "9           TAX          -0.008213          -0.008706\n",
       "10      PTRATIO          -0.928722          -0.867973\n",
       "11            B           0.011770           0.011923\n",
       "12        LSTAT          -0.547566          -0.559961"
      ]
     },
     "execution_count": 40,
     "metadata": {},
     "output_type": "execute_result"
    }
   ],
   "source": [
    "from sklearn.linear_model import Ridge\n",
    "reg1 = Ridge(alpha=0.5)\n",
    "reg1.fit(X_train,y_train)\n",
    "y_test_pred = reg1.predict(X_test)\n",
    "print(\"R2_score value = \",r2_score(y_test,y_test_pred))\n",
    "checking = pd.DataFrame()\n",
    "checking[\"column_names\"] = X_train.columns\n",
    "checking[\"coeffcient_values\"] = reg.coef_\n",
    "checking['Ridge_coef_values'] = reg1.coef_\n",
    "checking"
   ]
  },
  {
   "cell_type": "markdown",
   "id": "18f0889f",
   "metadata": {},
   "source": [
    "### Lasso Regression "
   ]
  },
  {
   "cell_type": "code",
   "execution_count": 41,
   "id": "9ddbca9a",
   "metadata": {},
   "outputs": [
    {
     "name": "stdout",
     "output_type": "stream",
     "text": [
      "R2_score value =  0.6983027905015838\n"
     ]
    },
    {
     "data": {
      "text/html": [
       "<div>\n",
       "<style scoped>\n",
       "    .dataframe tbody tr th:only-of-type {\n",
       "        vertical-align: middle;\n",
       "    }\n",
       "\n",
       "    .dataframe tbody tr th {\n",
       "        vertical-align: top;\n",
       "    }\n",
       "\n",
       "    .dataframe thead th {\n",
       "        text-align: right;\n",
       "    }\n",
       "</style>\n",
       "<table border=\"1\" class=\"dataframe\">\n",
       "  <thead>\n",
       "    <tr style=\"text-align: right;\">\n",
       "      <th></th>\n",
       "      <th>column_names</th>\n",
       "      <th>coeffcient_values</th>\n",
       "      <th>Ridge_coef_values</th>\n",
       "      <th>Lasso_coefficient_values</th>\n",
       "    </tr>\n",
       "  </thead>\n",
       "  <tbody>\n",
       "    <tr>\n",
       "      <th>0</th>\n",
       "      <td>CRIM</td>\n",
       "      <td>-0.128750</td>\n",
       "      <td>-0.124591</td>\n",
       "      <td>-0.102550</td>\n",
       "    </tr>\n",
       "    <tr>\n",
       "      <th>1</th>\n",
       "      <td>ZN</td>\n",
       "      <td>0.037823</td>\n",
       "      <td>0.038469</td>\n",
       "      <td>0.038882</td>\n",
       "    </tr>\n",
       "    <tr>\n",
       "      <th>2</th>\n",
       "      <td>INDUS</td>\n",
       "      <td>0.058211</td>\n",
       "      <td>0.034918</td>\n",
       "      <td>-0.000000</td>\n",
       "    </tr>\n",
       "    <tr>\n",
       "      <th>3</th>\n",
       "      <td>CHAS</td>\n",
       "      <td>3.238668</td>\n",
       "      <td>3.116315</td>\n",
       "      <td>0.000000</td>\n",
       "    </tr>\n",
       "    <tr>\n",
       "      <th>4</th>\n",
       "      <td>NOX</td>\n",
       "      <td>-16.169812</td>\n",
       "      <td>-10.753667</td>\n",
       "      <td>-0.000000</td>\n",
       "    </tr>\n",
       "    <tr>\n",
       "      <th>5</th>\n",
       "      <td>RM</td>\n",
       "      <td>3.902051</td>\n",
       "      <td>3.911982</td>\n",
       "      <td>2.577743</td>\n",
       "    </tr>\n",
       "    <tr>\n",
       "      <th>6</th>\n",
       "      <td>AGE</td>\n",
       "      <td>-0.012851</td>\n",
       "      <td>-0.017433</td>\n",
       "      <td>-0.004785</td>\n",
       "    </tr>\n",
       "    <tr>\n",
       "      <th>7</th>\n",
       "      <td>DIS</td>\n",
       "      <td>-1.422224</td>\n",
       "      <td>-1.341809</td>\n",
       "      <td>-0.916826</td>\n",
       "    </tr>\n",
       "    <tr>\n",
       "      <th>8</th>\n",
       "      <td>RAD</td>\n",
       "      <td>0.234854</td>\n",
       "      <td>0.222522</td>\n",
       "      <td>0.208420</td>\n",
       "    </tr>\n",
       "    <tr>\n",
       "      <th>9</th>\n",
       "      <td>TAX</td>\n",
       "      <td>-0.008213</td>\n",
       "      <td>-0.008706</td>\n",
       "      <td>-0.010149</td>\n",
       "    </tr>\n",
       "    <tr>\n",
       "      <th>10</th>\n",
       "      <td>PTRATIO</td>\n",
       "      <td>-0.928722</td>\n",
       "      <td>-0.867973</td>\n",
       "      <td>-0.738745</td>\n",
       "    </tr>\n",
       "    <tr>\n",
       "      <th>11</th>\n",
       "      <td>B</td>\n",
       "      <td>0.011770</td>\n",
       "      <td>0.011923</td>\n",
       "      <td>0.012080</td>\n",
       "    </tr>\n",
       "    <tr>\n",
       "      <th>12</th>\n",
       "      <td>LSTAT</td>\n",
       "      <td>-0.547566</td>\n",
       "      <td>-0.559961</td>\n",
       "      <td>-0.695736</td>\n",
       "    </tr>\n",
       "  </tbody>\n",
       "</table>\n",
       "</div>"
      ],
      "text/plain": [
       "   column_names  coeffcient_values  Ridge_coef_values  \\\n",
       "0          CRIM          -0.128750          -0.124591   \n",
       "1            ZN           0.037823           0.038469   \n",
       "2         INDUS           0.058211           0.034918   \n",
       "3          CHAS           3.238668           3.116315   \n",
       "4           NOX         -16.169812         -10.753667   \n",
       "5            RM           3.902051           3.911982   \n",
       "6           AGE          -0.012851          -0.017433   \n",
       "7           DIS          -1.422224          -1.341809   \n",
       "8           RAD           0.234854           0.222522   \n",
       "9           TAX          -0.008213          -0.008706   \n",
       "10      PTRATIO          -0.928722          -0.867973   \n",
       "11            B           0.011770           0.011923   \n",
       "12        LSTAT          -0.547566          -0.559961   \n",
       "\n",
       "    Lasso_coefficient_values  \n",
       "0                  -0.102550  \n",
       "1                   0.038882  \n",
       "2                  -0.000000  \n",
       "3                   0.000000  \n",
       "4                  -0.000000  \n",
       "5                   2.577743  \n",
       "6                  -0.004785  \n",
       "7                  -0.916826  \n",
       "8                   0.208420  \n",
       "9                  -0.010149  \n",
       "10                 -0.738745  \n",
       "11                  0.012080  \n",
       "12                 -0.695736  "
      ]
     },
     "execution_count": 41,
     "metadata": {},
     "output_type": "execute_result"
    }
   ],
   "source": [
    "from sklearn.linear_model import Lasso\n",
    "reg2 = Lasso(alpha=0.5)\n",
    "reg2.fit(X_train,y_train)\n",
    "y_test_pred = reg2.predict(X_test)\n",
    "print(\"R2_score value = \",r2_score(y_test,y_test_pred))\n",
    "checking = pd.DataFrame()\n",
    "checking[\"column_names\"] = X_train.columns\n",
    "checking[\"coeffcient_values\"] = reg.coef_\n",
    "checking['Ridge_coef_values'] = reg1.coef_\n",
    "checking[\"Lasso_coefficient_values\"] = reg2.coef_\n",
    "\n",
    "checking"
   ]
  },
  {
   "cell_type": "code",
   "execution_count": 42,
   "id": "aa9e4f6f",
   "metadata": {},
   "outputs": [],
   "source": [
    "### The coefficient value which are zero we can remove those column for training ML Models "
   ]
  },
  {
   "cell_type": "code",
   "execution_count": null,
   "id": "d10ba3bd",
   "metadata": {},
   "outputs": [],
   "source": []
  }
 ],
 "metadata": {
  "kernelspec": {
   "display_name": "Python 3 (ipykernel)",
   "language": "python",
   "name": "python3"
  },
  "language_info": {
   "codemirror_mode": {
    "name": "ipython",
    "version": 3
   },
   "file_extension": ".py",
   "mimetype": "text/x-python",
   "name": "python",
   "nbconvert_exporter": "python",
   "pygments_lexer": "ipython3",
   "version": "3.11.5"
  }
 },
 "nbformat": 4,
 "nbformat_minor": 5
}
